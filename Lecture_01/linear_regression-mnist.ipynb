{
 "cells": [
  {
   "cell_type": "markdown",
   "metadata": {},
   "source": [
    "## Lecture-01\n",
    "\n",
    "**linear_regression-mnist**\n",
    "linear_regression으로 MNIST dataset Acc test"
   ]
  },
  {
   "cell_type": "markdown",
   "metadata": {},
   "source": [
    "### load_data\n",
    "\n",
    "train=50000,val=10000,test=10000"
   ]
  },
  {
   "cell_type": "code",
   "execution_count": 37,
   "metadata": {},
   "outputs": [
    {
     "name": "stdout",
     "output_type": "stream",
     "text": [
      "50000 10000 10000\n"
     ]
    }
   ],
   "source": [
    "import torch\n",
    "from torchvision import datasets, transforms\n",
    "import torch.nn as nn\n",
    "import torch.optim as optim\n",
    "from sklearn.metrics import accuracy_score\n",
    "import torch.backends.cudnn as cudnn\n",
    "\n",
    "batch_size = 128\n",
    "train_dataset = datasets.MNIST('./data', train=True, download=True,\n",
    "                   transform=transforms.Compose([\n",
    "                       transforms.ToTensor(),\n",
    "                       transforms.Normalize((0.1307,), (0.3081,))\n",
    "                   ]))\n",
    "\n",
    "test_dataset =  datasets.MNIST('./data'\n",
    "                               , train=False, download=True,\n",
    "                   transform=transforms.Compose([\n",
    "                       transforms.ToTensor(),\n",
    "                       transforms.Normalize((0.1307,), (0.3081,))\n",
    "                   ]))\n",
    "\n",
    "train_dataset, val_dataset = torch.utils.data.random_split(train_dataset, [50000, 10000])\n",
    "print(len(train_dataset), len(val_dataset), len(test_dataset))\n",
    "\n",
    "train_loader = torch.utils.data.DataLoader(train_dataset, batch_size=batch_size, shuffle=True)\n",
    "\n",
    "val_loader = torch.utils.data.DataLoader(val_dataset, batch_size=batch_size, shuffle=False)\n",
    "test_loader = torch.utils.data.DataLoader(test_dataset, batch_size=512, shuffle=False)"
   ]
  },
  {
   "cell_type": "markdown",
   "metadata": {},
   "source": [
    "### linear_model_define"
   ]
  },
  {
   "cell_type": "code",
   "execution_count": 38,
   "metadata": {},
   "outputs": [],
   "source": [
    "class LinearModel(nn.Module):\n",
    "    def __init__(self): \n",
    "        super(LinearModel, self).__init__()\n",
    "        self.linear1_1 = nn.Linear(in_features=784, out_features=784, bias=True)\n",
    "        self.linear1_2 = nn.Linear(in_features=784, out_features=414, bias=True)\n",
    "        self.linear1_3 = nn.Linear(in_features=414, out_features=10, bias=True)\n",
    "\n",
    "        self.sigmoid = nn.LogSigmoid()\n",
    "        self.softmax = nn.Softmax(dim=1)\n",
    "    \n",
    "    def forward(self, x):\n",
    "        x = self.linear1_1(x)\n",
    "        x = self.sigmoid(x)\n",
    "        x = self.linear1_2(x)\n",
    "        x = self.sigmoid(x)\n",
    "        x = self.linear1_3(x)\n",
    "        x = self.sigmoid(x)\n",
    "        return x"
   ]
  },
  {
   "cell_type": "markdown",
   "metadata": {},
   "source": [
    "### loss_function_define"
   ]
  },
  {
   "cell_type": "code",
   "execution_count": 33,
   "metadata": {},
   "outputs": [],
   "source": [
    "cls_loss = nn.CrossEntropyLoss()"
   ]
  },
  {
   "cell_type": "markdown",
   "metadata": {},
   "source": [
    "### train/val/test"
   ]
  },
  {
   "cell_type": "code",
   "execution_count": 34,
   "metadata": {},
   "outputs": [
    {
     "name": "stdout",
     "output_type": "stream",
     "text": [
      "Number of 944580 parameters\n",
      "Epoch: 0, Train Loss: 1.0896940382240374, Val Loss: 0.31594857422611383, Test Acc: 91.05%\n",
      "Epoch: 1, Train Loss: 0.2359171010877775, Val Loss: 0.18154765175113194, Test Acc: 94.46%\n",
      "Epoch: 2, Train Loss: 0.1431224825827743, Val Loss: 0.1418394268596474, Test Acc: 95.74000000000001%\n",
      "Epoch: 3, Train Loss: 0.10897869329966242, Val Loss: 0.14256576349652267, Test Acc: 95.67999999999999%\n",
      "Epoch: 4, Train Loss: 0.09063319894282715, Val Loss: 0.11947618047647839, Test Acc: 96.67%\n",
      "Epoch: 5, Train Loss: 0.07940603593064238, Val Loss: 0.11345583051914655, Test Acc: 96.41999999999999%\n",
      "Epoch: 6, Train Loss: 0.06471807377703508, Val Loss: 0.09685320667686718, Test Acc: 97.18%\n",
      "Epoch: 7, Train Loss: 0.05279649542692258, Val Loss: 0.09194198613868484, Test Acc: 97.31%\n",
      "Epoch: 8, Train Loss: 0.04107552966641267, Val Loss: 0.08664314101061112, Test Acc: 97.36%\n",
      "Epoch: 9, Train Loss: 0.03445873119513435, Val Loss: 0.07882298058771257, Test Acc: 97.36%\n",
      "Epoch: 10, Train Loss: 0.02791894014920001, Val Loss: 0.08704363281213784, Test Acc: 97.54%\n",
      "Epoch: 11, Train Loss: 0.02381072344694315, Val Loss: 0.08819567746942557, Test Acc: 97.3%\n",
      "Epoch: 12, Train Loss: 0.02291485767886269, Val Loss: 0.0929623367146978, Test Acc: 97.57000000000001%\n",
      "Epoch: 13, Train Loss: 0.022750459632704088, Val Loss: 0.09671247441651701, Test Acc: 97.36%\n",
      "Epoch: 14, Train Loss: 0.01950157327991922, Val Loss: 0.08941502727073015, Test Acc: 97.52%\n",
      "Epoch: 15, Train Loss: 0.016096396667152152, Val Loss: 0.09613916383396033, Test Acc: 97.56%\n",
      "Epoch: 16, Train Loss: 0.012754011825096253, Val Loss: 0.09504352011305245, Test Acc: 97.54%\n",
      "Epoch: 17, Train Loss: 0.014313011588525775, Val Loss: 0.1023710296088476, Test Acc: 97.6%\n",
      "Epoch: 18, Train Loss: 0.012163918714358797, Val Loss: 0.10271602629424556, Test Acc: 97.39%\n",
      "Epoch: 19, Train Loss: 0.013078418172895312, Val Loss: 0.10098535744650171, Test Acc: 97.66%\n",
      "Epoch: 20, Train Loss: 0.010106759549141206, Val Loss: 0.100744386044437, Test Acc: 97.77%\n",
      "Epoch: 21, Train Loss: 0.007884471705714848, Val Loss: 0.09313455142693806, Test Acc: 97.8%\n",
      "Epoch: 22, Train Loss: 0.004822947493659945, Val Loss: 0.08739918173302579, Test Acc: 98.08%\n",
      "Epoch: 23, Train Loss: 0.002878257556838672, Val Loss: 0.09022304021769581, Test Acc: 98.04%\n",
      "Epoch: 24, Train Loss: 0.00180885989557701, Val Loss: 0.08958129975885813, Test Acc: 98.15%\n",
      "Epoch: 25, Train Loss: 0.0017251311395101979, Val Loss: 0.09282290166097655, Test Acc: 98.15%\n",
      "Epoch: 26, Train Loss: 0.0010150261390421307, Val Loss: 0.0898812901920527, Test Acc: 98.13%\n",
      "Epoch: 27, Train Loss: 0.0007977683438014809, Val Loss: 0.09155649531693817, Test Acc: 98.16%\n",
      "Epoch: 28, Train Loss: 0.000693942018248432, Val Loss: 0.09050235340995802, Test Acc: 98.11%\n",
      "Epoch: 29, Train Loss: 0.0005672221586675844, Val Loss: 0.09194855584027659, Test Acc: 98.2%\n",
      "Epoch: 30, Train Loss: 0.00038352939181679127, Val Loss: 0.09228601431436513, Test Acc: 98.11999999999999%\n",
      "Epoch: 31, Train Loss: 0.0003317438987705316, Val Loss: 0.0925871671630214, Test Acc: 98.14%\n",
      "Epoch: 32, Train Loss: 0.00028722807289394787, Val Loss: 0.09321837335996458, Test Acc: 98.14%\n",
      "Epoch: 33, Train Loss: 0.00026244918186988834, Val Loss: 0.09419605028896616, Test Acc: 98.11999999999999%\n",
      "Epoch: 34, Train Loss: 0.00023905977138227757, Val Loss: 0.09415531542571777, Test Acc: 98.15%\n",
      "Epoch: 35, Train Loss: 0.00022032582726942308, Val Loss: 0.09534303387044929, Test Acc: 98.11999999999999%\n",
      "Epoch: 36, Train Loss: 0.00020717311623774063, Val Loss: 0.0957520025549917, Test Acc: 98.13%\n",
      "Epoch: 37, Train Loss: 0.00019408725486469322, Val Loss: 0.09644102800206084, Test Acc: 98.11999999999999%\n",
      "Epoch: 38, Train Loss: 0.00018535956602471095, Val Loss: 0.09712357871144896, Test Acc: 98.11%\n",
      "Epoch: 39, Train Loss: 0.00017627256720446235, Val Loss: 0.09794445971175851, Test Acc: 98.13%\n"
     ]
    }
   ],
   "source": [
    "# ====== Construct Model ====== #\n",
    "model = LinearModel().cuda()\n",
    "model = torch.nn.DataParallel(model)\n",
    "cudnn.benchmark = True\n",
    "print('Number of {} parameters'.format(sum(p.numel() for p in model.parameters() if p.requires_grad)))\n",
    "\n",
    "# ===== Construct Optimizer ====== #\n",
    "lr = 0.001777    \n",
    "optimizer = optim.SGD(model.parameters(), lr=lr) \n",
    "\n",
    "list_epoch = [] \n",
    "list_train_loss = []\n",
    "list_val_loss = []\n",
    "list_acc = []\n",
    "list_acc_epoch = []\n",
    "\n",
    "epoch = 40\n",
    "for i in range(epoch):\n",
    "    \n",
    "    # ====== Train ====== #\n",
    "    train_loss = 0\n",
    "    model.train()\n",
    "    optimizer.zero_grad() \n",
    "    \n",
    "    for input_X, true_y in train_loader:\n",
    "        input_X, true_y = input_X.cuda(), true_y.cuda()\n",
    "        input_X = input_X.squeeze()\n",
    "        input_X = input_X.view(-1, 784)\n",
    "        pred_y = model(input_X)\n",
    "\n",
    "        loss = cls_loss(pred_y.squeeze(), true_y)\n",
    "        loss.backward() \n",
    "        optimizer.step() \n",
    "        train_loss += loss.item()\n",
    "    train_loss = train_loss / len(train_loader)\n",
    "    list_train_loss.append(train_loss)\n",
    "    list_epoch.append(i)\n",
    "    \n",
    "    # ====== Validation ====== #\n",
    "    val_loss = 0\n",
    "    model.eval()\n",
    "    optimizer.zero_grad()\n",
    "    \n",
    "    for input_X, true_y in val_loader:\n",
    "        input_X, true_y = input_X.cuda(), true_y.cuda()\n",
    "        input_X = input_X.squeeze()\n",
    "        input_X = input_X.view(-1, 784)\n",
    "        pred_y = model(input_X)\n",
    "\n",
    "        loss = cls_loss(pred_y.squeeze(), true_y)\n",
    "        val_loss += loss.item()\n",
    "    val_loss = val_loss / len(val_loader)\n",
    "    list_val_loss.append(val_loss)\n",
    "\n",
    "    # ====== Evaluation ======= #\n",
    "    correct = 0\n",
    "    model.eval()\n",
    "    optimizer.zero_grad()\n",
    "\n",
    "    for input_X, true_y in test_loader:\n",
    "        input_X, true_y = input_X.cuda(), true_y.cuda()\n",
    "        input_X = input_X.squeeze()\n",
    "        input_X = input_X.view(-1, 784)\n",
    "        pred_y = model(input_X).max(1, keepdim=True)[1].squeeze()\n",
    "        correct += pred_y.eq(true_y).sum()\n",
    "        \n",
    "    acc = correct.item() / len(test_loader.dataset)\n",
    "    list_acc.append(acc)\n",
    "    list_acc_epoch.append(i)\n",
    "    \n",
    "    print('Epoch: {}, Train Loss: {}, Val Loss: {}, Test Acc: {}%'.format(i, train_loss, val_loss, acc*100))"
   ]
  },
  {
   "cell_type": "markdown",
   "metadata": {},
   "source": [
    "### Interpret the graph.                                                  #"
   ]
  },
  {
   "cell_type": "code",
   "execution_count": 36,
   "metadata": {},
   "outputs": [
    {
     "data": {
      "image/png": "[encoded data removed]",
      "text/plain": [
       "<Figure size 1080x360 with 2 Axes>"
      ]
     },
     "metadata": {
      "needs_background": "light"
     },
     "output_type": "display_data"
    }
   ],
   "source": [
    "import matplotlib.pyplot as plt\n",
    "fig = plt.figure(figsize=(15,5))\n",
    "\n",
    "# ====== Loss Fluctuation ====== #\n",
    "ax1 = fig.add_subplot(1, 2, 1)\n",
    "ax1.plot(list_epoch, list_train_loss, label='train_loss')\n",
    "ax1.plot(list_epoch, list_val_loss, '--', label='val_loss')\n",
    "ax1.set_xlabel('epoch')\n",
    "ax1.set_ylabel('loss')\n",
    "ax1.grid()\n",
    "ax1.legend()\n",
    "ax1.set_title('epoch vs loss')\n",
    "\n",
    "# ====== Metric Fluctuation ====== #\n",
    "ax2 = fig.add_subplot(1, 2, 2)\n",
    "ax2.plot(list_acc_epoch, list_acc, marker='x', label='Accuracy metric')\n",
    "ax2.set_xlabel('epoch')\n",
    "ax2.set_ylabel('Acc')\n",
    "ax2.grid()\n",
    "ax2.legend()\n",
    "ax2.set_title('epoch vs Accuracy')\n",
    "\n",
    "plt.show()"
   ]
  },
  {
   "cell_type": "code",
   "execution_count": null,
   "metadata": {},
   "outputs": [],
   "source": []
  }
 ],
 "metadata": {
  "kernelspec": {
   "display_name": "Python 3",
   "language": "python",
   "name": "python3"
  },
  "language_info": {
   "codemirror_mode": {
    "name": "ipython",
    "version": 3
   },
   "file_extension": ".py",
   "mimetype": "text/x-python",
   "name": "python",
   "nbconvert_exporter": "python",
   "pygments_lexer": "ipython3",
   "version": "3.6.8"
  }
 },
 "nbformat": 4,
 "nbformat_minor": 2
}
